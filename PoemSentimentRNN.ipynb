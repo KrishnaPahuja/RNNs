{
  "nbformat": 4,
  "nbformat_minor": 0,
  "metadata": {
    "colab": {
      "provenance": []
    },
    "kernelspec": {
      "name": "python3",
      "display_name": "Python 3"
    },
    "language_info": {
      "name": "python"
    }
  },
  "cells": [
    {
      "cell_type": "code",
      "execution_count": 25,
      "metadata": {
        "id": "CergVgvkKWF8"
      },
      "outputs": [],
      "source": [
        "from transformers import AutoModel\n",
        "from transformers import AutoTokenizer\n",
        "import numpy as np\n",
        "\n",
        "\n",
        "MODEL = f\"cardiffnlp/twitter-roberta-base-sentiment-latest\"\n",
        "tokenizer = AutoTokenizer.from_pretrained(MODEL)\n",
        "\n",
        "model = AutoModel.from_pretrained(MODEL)"
      ]
    },
    {
      "cell_type": "code",
      "source": [
        "encoded_input"
      ],
      "metadata": {
        "colab": {
          "base_uri": "https://localhost:8080/"
        },
        "id": "57GVgemGKaVf",
        "outputId": "665b5e0f-4fdb-4f42-9bbf-56100cef8a83"
      },
      "execution_count": 26,
      "outputs": [
        {
          "output_type": "execute_result",
          "data": {
            "text/plain": [
              "{'input_ids': tensor([[    0,   118,   657,    47, 23513,     2]]), 'attention_mask': tensor([[1, 1, 1, 1, 1, 1]])}"
            ]
          },
          "metadata": {},
          "execution_count": 26
        }
      ]
    },
    {
      "cell_type": "code",
      "source": [
        "text = \"i love you 3000\"\n",
        "encoded_input = tokenizer(text, return_tensors='pt')\n",
        "\n",
        "with torch.no_grad():\n",
        "    output = model(**encoded_input)\n",
        "\n",
        "last_hidden_state = output.last_hidden_state  # shape: [1, seq_len, hidden_size]\n",
        "\n",
        "embedding = last_hidden_state"
      ],
      "metadata": {
        "id": "1VlZlPj3LRT3"
      },
      "execution_count": 27,
      "outputs": []
    },
    {
      "cell_type": "code",
      "source": [
        "embedding.shape"
      ],
      "metadata": {
        "colab": {
          "base_uri": "https://localhost:8080/"
        },
        "id": "K3f0F84CMEJT",
        "outputId": "9aa9e937-289c-49a9-cd48-f9bf53b7f4a4"
      },
      "execution_count": 28,
      "outputs": [
        {
          "output_type": "execute_result",
          "data": {
            "text/plain": [
              "torch.Size([1, 6, 768])"
            ]
          },
          "metadata": {},
          "execution_count": 28
        }
      ]
    },
    {
      "cell_type": "code",
      "source": [
        "embedding = embedding.squeeze()"
      ],
      "metadata": {
        "id": "yavDgxa9M8zO"
      },
      "execution_count": 29,
      "outputs": []
    },
    {
      "cell_type": "code",
      "source": [
        "embedding.shape"
      ],
      "metadata": {
        "colab": {
          "base_uri": "https://localhost:8080/"
        },
        "id": "DqcnQg_zNaW3",
        "outputId": "53e888ea-7823-4555-f317-562fda60c938"
      },
      "execution_count": 30,
      "outputs": [
        {
          "output_type": "execute_result",
          "data": {
            "text/plain": [
              "torch.Size([6, 768])"
            ]
          },
          "metadata": {},
          "execution_count": 30
        }
      ]
    },
    {
      "cell_type": "code",
      "source": [
        "tokenizer.convert_ids_to_tokens(encoded_input.input_ids[0])"
      ],
      "metadata": {
        "colab": {
          "base_uri": "https://localhost:8080/"
        },
        "id": "w1zF7gnfNehe",
        "outputId": "2105f04c-2d24-486a-87dd-3d1b02f79347"
      },
      "execution_count": 31,
      "outputs": [
        {
          "output_type": "execute_result",
          "data": {
            "text/plain": [
              "['<s>', 'i', 'Ġlove', 'Ġyou', 'Ġ3000', '</s>']"
            ]
          },
          "metadata": {},
          "execution_count": 31
        }
      ]
    },
    {
      "cell_type": "code",
      "source": [],
      "metadata": {
        "id": "8LJeBL2RN-I-"
      },
      "execution_count": null,
      "outputs": []
    },
    {
      "cell_type": "markdown",
      "source": [
        "### RNN implementation"
      ],
      "metadata": {
        "id": "Zd2FmNnMSUYu"
      }
    },
    {
      "cell_type": "code",
      "source": [
        "import torch\n",
        "import torch.nn as nn\n",
        "\n",
        "class RNNClassifier(nn.Module):\n",
        "    def __init__(self, input_size, hidden_size):\n",
        "        super(RNNClassifier, self).__init__()\n",
        "        self.hidden_size = hidden_size\n",
        "        self.Wax = nn.Parameter(torch.randn(input_size, hidden_size) * 0.01)\n",
        "        self.Waa = nn.Parameter(torch.randn(hidden_size, hidden_size) * 0.01)\n",
        "        self.Wya = nn.Parameter(torch.randn(hidden_size, 4) * 0.01)\n",
        "        self.ba = nn.Parameter(torch.zeros(1, hidden_size))\n",
        "\n",
        "\n",
        "    def forward(self, inputs):\n",
        "\n",
        "        a_t = torch.zeros(1, self.hidden_size)  # Initial hidden state\n",
        "        for x_t in inputs:\n",
        "            x_t = x_t.unsqueeze(0)  # new Shape (1, input_size)\n",
        "\n",
        "            a_t = torch.tanh(x_t @ self.Wax + a_t @ self.Waa + self.ba)  # Update hidden state\n",
        "            # we can compute y_t here but its of no use since we are not going to backprop from each unit unless it is the last one\n",
        "\n",
        "        y = a_t @ self.Wya\n",
        "        return y"
      ],
      "metadata": {
        "id": "NyXlZEVcSVlv"
      },
      "execution_count": 80,
      "outputs": []
    },
    {
      "cell_type": "code",
      "source": [
        "from datasets import load_dataset"
      ],
      "metadata": {
        "id": "-eqHW5WtWOMc"
      },
      "execution_count": 34,
      "outputs": []
    },
    {
      "cell_type": "code",
      "source": [
        "import pandas as pd\n",
        "\n",
        "splits = {'train': 'data/train-00000-of-00001.parquet', 'validation': 'data/validation-00000-of-00001.parquet', 'test': 'data/test-00000-of-00001.parquet'}\n",
        "df = pd.read_parquet(\"hf://datasets/google-research-datasets/poem_sentiment/\" + splits[\"train\"])"
      ],
      "metadata": {
        "id": "12ZRiu9FWLdT"
      },
      "execution_count": 88,
      "outputs": []
    },
    {
      "cell_type": "code",
      "source": [
        "df.head()"
      ],
      "metadata": {
        "colab": {
          "base_uri": "https://localhost:8080/",
          "height": 221
        },
        "id": "VrhRG87cWNNd",
        "outputId": "7ebf58db-f1e6-4d2a-9d88-feedc7747d46"
      },
      "execution_count": 89,
      "outputs": [
        {
          "output_type": "execute_result",
          "data": {
            "text/plain": [
              "   id                                         verse_text  label\n",
              "0   0  with pale blue berries. in these peaceful shad...      1\n",
              "1   1                it flows so long as falls the rain,      2\n",
              "2   2                 and that is why, the lonesome day,      0\n",
              "3   3  when i peruse the conquered fame of heroes, an...      3\n",
              "4   4            of inward strife for truth and liberty.      3"
            ],
            "text/html": [
              "\n",
              "  <div id=\"df-20ae8784-17cf-4692-8554-66b20fab85a4\" class=\"colab-df-container\">\n",
              "    <div>\n",
              "<style scoped>\n",
              "    .dataframe tbody tr th:only-of-type {\n",
              "        vertical-align: middle;\n",
              "    }\n",
              "\n",
              "    .dataframe tbody tr th {\n",
              "        vertical-align: top;\n",
              "    }\n",
              "\n",
              "    .dataframe thead th {\n",
              "        text-align: right;\n",
              "    }\n",
              "</style>\n",
              "<table border=\"1\" class=\"dataframe\">\n",
              "  <thead>\n",
              "    <tr style=\"text-align: right;\">\n",
              "      <th></th>\n",
              "      <th>id</th>\n",
              "      <th>verse_text</th>\n",
              "      <th>label</th>\n",
              "    </tr>\n",
              "  </thead>\n",
              "  <tbody>\n",
              "    <tr>\n",
              "      <th>0</th>\n",
              "      <td>0</td>\n",
              "      <td>with pale blue berries. in these peaceful shad...</td>\n",
              "      <td>1</td>\n",
              "    </tr>\n",
              "    <tr>\n",
              "      <th>1</th>\n",
              "      <td>1</td>\n",
              "      <td>it flows so long as falls the rain,</td>\n",
              "      <td>2</td>\n",
              "    </tr>\n",
              "    <tr>\n",
              "      <th>2</th>\n",
              "      <td>2</td>\n",
              "      <td>and that is why, the lonesome day,</td>\n",
              "      <td>0</td>\n",
              "    </tr>\n",
              "    <tr>\n",
              "      <th>3</th>\n",
              "      <td>3</td>\n",
              "      <td>when i peruse the conquered fame of heroes, an...</td>\n",
              "      <td>3</td>\n",
              "    </tr>\n",
              "    <tr>\n",
              "      <th>4</th>\n",
              "      <td>4</td>\n",
              "      <td>of inward strife for truth and liberty.</td>\n",
              "      <td>3</td>\n",
              "    </tr>\n",
              "  </tbody>\n",
              "</table>\n",
              "</div>\n",
              "    <div class=\"colab-df-buttons\">\n",
              "\n",
              "  <div class=\"colab-df-container\">\n",
              "    <button class=\"colab-df-convert\" onclick=\"convertToInteractive('df-20ae8784-17cf-4692-8554-66b20fab85a4')\"\n",
              "            title=\"Convert this dataframe to an interactive table.\"\n",
              "            style=\"display:none;\">\n",
              "\n",
              "  <svg xmlns=\"http://www.w3.org/2000/svg\" height=\"24px\" viewBox=\"0 -960 960 960\">\n",
              "    <path d=\"M120-120v-720h720v720H120Zm60-500h600v-160H180v160Zm220 220h160v-160H400v160Zm0 220h160v-160H400v160ZM180-400h160v-160H180v160Zm440 0h160v-160H620v160ZM180-180h160v-160H180v160Zm440 0h160v-160H620v160Z\"/>\n",
              "  </svg>\n",
              "    </button>\n",
              "\n",
              "  <style>\n",
              "    .colab-df-container {\n",
              "      display:flex;\n",
              "      gap: 12px;\n",
              "    }\n",
              "\n",
              "    .colab-df-convert {\n",
              "      background-color: #E8F0FE;\n",
              "      border: none;\n",
              "      border-radius: 50%;\n",
              "      cursor: pointer;\n",
              "      display: none;\n",
              "      fill: #1967D2;\n",
              "      height: 32px;\n",
              "      padding: 0 0 0 0;\n",
              "      width: 32px;\n",
              "    }\n",
              "\n",
              "    .colab-df-convert:hover {\n",
              "      background-color: #E2EBFA;\n",
              "      box-shadow: 0px 1px 2px rgba(60, 64, 67, 0.3), 0px 1px 3px 1px rgba(60, 64, 67, 0.15);\n",
              "      fill: #174EA6;\n",
              "    }\n",
              "\n",
              "    .colab-df-buttons div {\n",
              "      margin-bottom: 4px;\n",
              "    }\n",
              "\n",
              "    [theme=dark] .colab-df-convert {\n",
              "      background-color: #3B4455;\n",
              "      fill: #D2E3FC;\n",
              "    }\n",
              "\n",
              "    [theme=dark] .colab-df-convert:hover {\n",
              "      background-color: #434B5C;\n",
              "      box-shadow: 0px 1px 3px 1px rgba(0, 0, 0, 0.15);\n",
              "      filter: drop-shadow(0px 1px 2px rgba(0, 0, 0, 0.3));\n",
              "      fill: #FFFFFF;\n",
              "    }\n",
              "  </style>\n",
              "\n",
              "    <script>\n",
              "      const buttonEl =\n",
              "        document.querySelector('#df-20ae8784-17cf-4692-8554-66b20fab85a4 button.colab-df-convert');\n",
              "      buttonEl.style.display =\n",
              "        google.colab.kernel.accessAllowed ? 'block' : 'none';\n",
              "\n",
              "      async function convertToInteractive(key) {\n",
              "        const element = document.querySelector('#df-20ae8784-17cf-4692-8554-66b20fab85a4');\n",
              "        const dataTable =\n",
              "          await google.colab.kernel.invokeFunction('convertToInteractive',\n",
              "                                                    [key], {});\n",
              "        if (!dataTable) return;\n",
              "\n",
              "        const docLinkHtml = 'Like what you see? Visit the ' +\n",
              "          '<a target=\"_blank\" href=https://colab.research.google.com/notebooks/data_table.ipynb>data table notebook</a>'\n",
              "          + ' to learn more about interactive tables.';\n",
              "        element.innerHTML = '';\n",
              "        dataTable['output_type'] = 'display_data';\n",
              "        await google.colab.output.renderOutput(dataTable, element);\n",
              "        const docLink = document.createElement('div');\n",
              "        docLink.innerHTML = docLinkHtml;\n",
              "        element.appendChild(docLink);\n",
              "      }\n",
              "    </script>\n",
              "  </div>\n",
              "\n",
              "\n",
              "    <div id=\"df-8c95696a-39fd-41d1-b604-012beb230822\">\n",
              "      <button class=\"colab-df-quickchart\" onclick=\"quickchart('df-8c95696a-39fd-41d1-b604-012beb230822')\"\n",
              "                title=\"Suggest charts\"\n",
              "                style=\"display:none;\">\n",
              "\n",
              "<svg xmlns=\"http://www.w3.org/2000/svg\" height=\"24px\"viewBox=\"0 0 24 24\"\n",
              "     width=\"24px\">\n",
              "    <g>\n",
              "        <path d=\"M19 3H5c-1.1 0-2 .9-2 2v14c0 1.1.9 2 2 2h14c1.1 0 2-.9 2-2V5c0-1.1-.9-2-2-2zM9 17H7v-7h2v7zm4 0h-2V7h2v10zm4 0h-2v-4h2v4z\"/>\n",
              "    </g>\n",
              "</svg>\n",
              "      </button>\n",
              "\n",
              "<style>\n",
              "  .colab-df-quickchart {\n",
              "      --bg-color: #E8F0FE;\n",
              "      --fill-color: #1967D2;\n",
              "      --hover-bg-color: #E2EBFA;\n",
              "      --hover-fill-color: #174EA6;\n",
              "      --disabled-fill-color: #AAA;\n",
              "      --disabled-bg-color: #DDD;\n",
              "  }\n",
              "\n",
              "  [theme=dark] .colab-df-quickchart {\n",
              "      --bg-color: #3B4455;\n",
              "      --fill-color: #D2E3FC;\n",
              "      --hover-bg-color: #434B5C;\n",
              "      --hover-fill-color: #FFFFFF;\n",
              "      --disabled-bg-color: #3B4455;\n",
              "      --disabled-fill-color: #666;\n",
              "  }\n",
              "\n",
              "  .colab-df-quickchart {\n",
              "    background-color: var(--bg-color);\n",
              "    border: none;\n",
              "    border-radius: 50%;\n",
              "    cursor: pointer;\n",
              "    display: none;\n",
              "    fill: var(--fill-color);\n",
              "    height: 32px;\n",
              "    padding: 0;\n",
              "    width: 32px;\n",
              "  }\n",
              "\n",
              "  .colab-df-quickchart:hover {\n",
              "    background-color: var(--hover-bg-color);\n",
              "    box-shadow: 0 1px 2px rgba(60, 64, 67, 0.3), 0 1px 3px 1px rgba(60, 64, 67, 0.15);\n",
              "    fill: var(--button-hover-fill-color);\n",
              "  }\n",
              "\n",
              "  .colab-df-quickchart-complete:disabled,\n",
              "  .colab-df-quickchart-complete:disabled:hover {\n",
              "    background-color: var(--disabled-bg-color);\n",
              "    fill: var(--disabled-fill-color);\n",
              "    box-shadow: none;\n",
              "  }\n",
              "\n",
              "  .colab-df-spinner {\n",
              "    border: 2px solid var(--fill-color);\n",
              "    border-color: transparent;\n",
              "    border-bottom-color: var(--fill-color);\n",
              "    animation:\n",
              "      spin 1s steps(1) infinite;\n",
              "  }\n",
              "\n",
              "  @keyframes spin {\n",
              "    0% {\n",
              "      border-color: transparent;\n",
              "      border-bottom-color: var(--fill-color);\n",
              "      border-left-color: var(--fill-color);\n",
              "    }\n",
              "    20% {\n",
              "      border-color: transparent;\n",
              "      border-left-color: var(--fill-color);\n",
              "      border-top-color: var(--fill-color);\n",
              "    }\n",
              "    30% {\n",
              "      border-color: transparent;\n",
              "      border-left-color: var(--fill-color);\n",
              "      border-top-color: var(--fill-color);\n",
              "      border-right-color: var(--fill-color);\n",
              "    }\n",
              "    40% {\n",
              "      border-color: transparent;\n",
              "      border-right-color: var(--fill-color);\n",
              "      border-top-color: var(--fill-color);\n",
              "    }\n",
              "    60% {\n",
              "      border-color: transparent;\n",
              "      border-right-color: var(--fill-color);\n",
              "    }\n",
              "    80% {\n",
              "      border-color: transparent;\n",
              "      border-right-color: var(--fill-color);\n",
              "      border-bottom-color: var(--fill-color);\n",
              "    }\n",
              "    90% {\n",
              "      border-color: transparent;\n",
              "      border-bottom-color: var(--fill-color);\n",
              "    }\n",
              "  }\n",
              "</style>\n",
              "\n",
              "      <script>\n",
              "        async function quickchart(key) {\n",
              "          const quickchartButtonEl =\n",
              "            document.querySelector('#' + key + ' button');\n",
              "          quickchartButtonEl.disabled = true;  // To prevent multiple clicks.\n",
              "          quickchartButtonEl.classList.add('colab-df-spinner');\n",
              "          try {\n",
              "            const charts = await google.colab.kernel.invokeFunction(\n",
              "                'suggestCharts', [key], {});\n",
              "          } catch (error) {\n",
              "            console.error('Error during call to suggestCharts:', error);\n",
              "          }\n",
              "          quickchartButtonEl.classList.remove('colab-df-spinner');\n",
              "          quickchartButtonEl.classList.add('colab-df-quickchart-complete');\n",
              "        }\n",
              "        (() => {\n",
              "          let quickchartButtonEl =\n",
              "            document.querySelector('#df-8c95696a-39fd-41d1-b604-012beb230822 button');\n",
              "          quickchartButtonEl.style.display =\n",
              "            google.colab.kernel.accessAllowed ? 'block' : 'none';\n",
              "        })();\n",
              "      </script>\n",
              "    </div>\n",
              "\n",
              "    </div>\n",
              "  </div>\n"
            ],
            "application/vnd.google.colaboratory.intrinsic+json": {
              "type": "dataframe",
              "variable_name": "df",
              "summary": "{\n  \"name\": \"df\",\n  \"rows\": 892,\n  \"fields\": [\n    {\n      \"column\": \"id\",\n      \"properties\": {\n        \"dtype\": \"int32\",\n        \"num_unique_values\": 892,\n        \"samples\": [\n          710,\n          440,\n          525\n        ],\n        \"semantic_type\": \"\",\n        \"description\": \"\"\n      }\n    },\n    {\n      \"column\": \"verse_text\",\n      \"properties\": {\n        \"dtype\": \"string\",\n        \"num_unique_values\": 892,\n        \"samples\": [\n          \"the lady eunice such a life she flew\",\n          \"daily struggling, though unloved and lonely,\",\n          \"lowly and soft she said it; but spake out louder now:\"\n        ],\n        \"semantic_type\": \"\",\n        \"description\": \"\"\n      }\n    },\n    {\n      \"column\": \"label\",\n      \"properties\": {\n        \"dtype\": \"number\",\n        \"std\": 0,\n        \"min\": 0,\n        \"max\": 3,\n        \"num_unique_values\": 4,\n        \"samples\": [\n          2,\n          3,\n          1\n        ],\n        \"semantic_type\": \"\",\n        \"description\": \"\"\n      }\n    }\n  ]\n}"
            }
          },
          "metadata": {},
          "execution_count": 89
        }
      ]
    },
    {
      "cell_type": "code",
      "source": [
        "df.shape"
      ],
      "metadata": {
        "colab": {
          "base_uri": "https://localhost:8080/"
        },
        "id": "cyU-GvJwXgLR",
        "outputId": "40b9695c-a91e-47cd-efc6-38289071f2e1"
      },
      "execution_count": 90,
      "outputs": [
        {
          "output_type": "execute_result",
          "data": {
            "text/plain": [
              "(892, 3)"
            ]
          },
          "metadata": {},
          "execution_count": 90
        }
      ]
    },
    {
      "cell_type": "code",
      "source": [
        "def create_embedding(text):\n",
        "  temp = tokenizer(text, return_tensors=\"pt\")\n",
        "  with torch.no_grad():\n",
        "    output = model(**temp)\n",
        "  return output.last_hidden_state.squeeze()"
      ],
      "metadata": {
        "id": "rTu7YfbsYGIg"
      },
      "execution_count": 91,
      "outputs": []
    },
    {
      "cell_type": "code",
      "source": [
        "from tqdm import tqdm"
      ],
      "metadata": {
        "id": "AZ9I3AECaJCX"
      },
      "execution_count": 92,
      "outputs": []
    },
    {
      "cell_type": "code",
      "source": [
        "embeddings = []\n",
        "labels = []\n",
        "\n",
        "for _, row in tqdm(df.iterrows(), total=len(df)):\n",
        "    text = row[\"verse_text\"]  # or the actual text column name\n",
        "    label = row[\"label\"]\n",
        "\n",
        "    embedding = create_embedding(text)\n",
        "    embeddings.append((embedding, text))\n",
        "    labels.append(label)"
      ],
      "metadata": {
        "colab": {
          "base_uri": "https://localhost:8080/"
        },
        "id": "wXPHQ51KY5ZQ",
        "outputId": "1d77c5a1-2607-49a7-c5a0-d3eb897c4a33"
      },
      "execution_count": 96,
      "outputs": [
        {
          "output_type": "stream",
          "name": "stderr",
          "text": [
            "100%|██████████| 892/892 [01:46<00:00,  8.34it/s]\n"
          ]
        }
      ]
    },
    {
      "cell_type": "code",
      "source": [
        "labels[:2]"
      ],
      "metadata": {
        "colab": {
          "base_uri": "https://localhost:8080/"
        },
        "id": "ZQGSIk3Wo2_n",
        "outputId": "c83a07a1-3467-40af-f01d-bbc3bf4d2704"
      },
      "execution_count": 98,
      "outputs": [
        {
          "output_type": "execute_result",
          "data": {
            "text/plain": [
              "[1, 2]"
            ]
          },
          "metadata": {},
          "execution_count": 98
        }
      ]
    },
    {
      "cell_type": "code",
      "source": [
        "from sklearn.model_selection import train_test_split\n",
        "\n",
        "# Split into 80% train, 20% test\n",
        "xtrain, xtest, ytrain, ytest = train_test_split(\n",
        "    embeddings, labels, test_size=0.2, random_state=42\n",
        ")"
      ],
      "metadata": {
        "id": "GDBxLCPtaA8k"
      },
      "execution_count": 99,
      "outputs": []
    },
    {
      "cell_type": "code",
      "source": [
        "ytrain = torch.tensor(ytrain)\n",
        "ytest = torch.tensor(ytest)"
      ],
      "metadata": {
        "id": "50k3U6uza8PT"
      },
      "execution_count": 101,
      "outputs": []
    },
    {
      "cell_type": "code",
      "source": [
        "  for i in range(len(xtrain[:2])):\n",
        "      x = xtrain[i][0]  # shape: (1, 768)\n",
        "      y = ytrain[i].unsqueeze(0)  # shape: (1,1)\n",
        "      print(x.shape, y.shape)"
      ],
      "metadata": {
        "colab": {
          "base_uri": "https://localhost:8080/"
        },
        "id": "vQj70ny7kFEM",
        "outputId": "5f96bd39-7a0a-48f7-f36e-b24fded673aa"
      },
      "execution_count": 103,
      "outputs": [
        {
          "output_type": "stream",
          "name": "stdout",
          "text": [
            "torch.Size([12, 768]) torch.Size([1])\n",
            "torch.Size([15, 768]) torch.Size([1])\n"
          ]
        }
      ]
    },
    {
      "cell_type": "code",
      "source": [],
      "metadata": {
        "id": "MkOscWzekHkC"
      },
      "execution_count": null,
      "outputs": []
    },
    {
      "cell_type": "code",
      "source": [
        "import torch\n",
        "import torch.nn as nn\n",
        "import torch.optim as optim\n",
        "\n",
        "\n",
        "input_size = 768  # size of embedding from BERT\n",
        "hidden_size = 128\n",
        "num_classes = 4\n",
        "\n",
        "rnn = RNNClassifier(input_size=input_size, hidden_size=hidden_size)\n",
        "\n",
        "\n",
        "loss_fn = nn.CrossEntropyLoss()\n",
        "optimizer = optim.Adam(rnn.parameters(), lr=0.001)\n",
        "\n",
        "\n",
        "epochs = 50\n",
        "for epoch in range(epochs):\n",
        "    total_loss = 0\n",
        "    correct = 0\n",
        "\n",
        "    for i in range(len(xtrain)):\n",
        "        x = xtrain[i][0]  # shape: (seq_len, 768)\n",
        "        y = ytrain[i].unsqueeze(0)  # shape: (1,1)\n",
        "\n",
        "        output = rnn(x)  # shape: (1, 4)\n",
        "        # print(\"got output\", output)\n",
        "\n",
        "        loss = loss_fn(output, y)\n",
        "\n",
        "\n",
        "        optimizer.zero_grad()\n",
        "        loss.backward()\n",
        "        optimizer.step()\n",
        "\n",
        "        total_loss += loss.item()\n",
        "        if torch.argmax(output) == y.item():\n",
        "            correct += 1\n",
        "\n",
        "    accuracy = correct / len(xtrain)\n",
        "    print(f\"Epoch {epoch+1}/{epochs} - Loss: {total_loss:.4f}, Accuracy: {accuracy:.4f}\")\n"
      ],
      "metadata": {
        "colab": {
          "base_uri": "https://localhost:8080/"
        },
        "id": "Qp5uTWrijtbE",
        "outputId": "e568527c-65e2-4478-d166-6c1c3cad5fcc"
      },
      "execution_count": 104,
      "outputs": [
        {
          "output_type": "stream",
          "name": "stdout",
          "text": [
            "Epoch 1/50 - Loss: 533.6700, Accuracy: 0.7181\n",
            "Epoch 2/50 - Loss: 443.7203, Accuracy: 0.7616\n",
            "Epoch 3/50 - Loss: 391.7350, Accuracy: 0.7980\n",
            "Epoch 4/50 - Loss: 354.8313, Accuracy: 0.8107\n",
            "Epoch 5/50 - Loss: 331.6043, Accuracy: 0.8177\n",
            "Epoch 6/50 - Loss: 278.0318, Accuracy: 0.8443\n",
            "Epoch 7/50 - Loss: 247.4763, Accuracy: 0.8766\n",
            "Epoch 8/50 - Loss: 228.2004, Accuracy: 0.8892\n",
            "Epoch 9/50 - Loss: 207.8478, Accuracy: 0.8962\n",
            "Epoch 10/50 - Loss: 189.9188, Accuracy: 0.9144\n",
            "Epoch 11/50 - Loss: 156.5796, Accuracy: 0.9299\n",
            "Epoch 12/50 - Loss: 159.2259, Accuracy: 0.9243\n",
            "Epoch 13/50 - Loss: 137.6615, Accuracy: 0.9355\n",
            "Epoch 14/50 - Loss: 143.2635, Accuracy: 0.9271\n",
            "Epoch 15/50 - Loss: 120.5652, Accuracy: 0.9453\n",
            "Epoch 16/50 - Loss: 118.1064, Accuracy: 0.9467\n",
            "Epoch 17/50 - Loss: 114.5644, Accuracy: 0.9439\n",
            "Epoch 18/50 - Loss: 90.6434, Accuracy: 0.9635\n",
            "Epoch 19/50 - Loss: 67.4000, Accuracy: 0.9762\n",
            "Epoch 20/50 - Loss: 56.5776, Accuracy: 0.9762\n",
            "Epoch 21/50 - Loss: 80.8701, Accuracy: 0.9621\n",
            "Epoch 22/50 - Loss: 46.2704, Accuracy: 0.9804\n",
            "Epoch 23/50 - Loss: 61.6239, Accuracy: 0.9677\n",
            "Epoch 24/50 - Loss: 54.7339, Accuracy: 0.9790\n",
            "Epoch 25/50 - Loss: 44.3673, Accuracy: 0.9832\n",
            "Epoch 26/50 - Loss: 40.2671, Accuracy: 0.9818\n",
            "Epoch 27/50 - Loss: 67.6745, Accuracy: 0.9621\n",
            "Epoch 28/50 - Loss: 90.9304, Accuracy: 0.9523\n",
            "Epoch 29/50 - Loss: 48.4961, Accuracy: 0.9734\n",
            "Epoch 30/50 - Loss: 27.8549, Accuracy: 0.9902\n",
            "Epoch 31/50 - Loss: 21.5804, Accuracy: 0.9916\n",
            "Epoch 32/50 - Loss: 20.1636, Accuracy: 0.9902\n",
            "Epoch 33/50 - Loss: 15.7204, Accuracy: 0.9972\n",
            "Epoch 34/50 - Loss: 10.7717, Accuracy: 0.9972\n",
            "Epoch 35/50 - Loss: 19.2926, Accuracy: 0.9944\n",
            "Epoch 36/50 - Loss: 113.9986, Accuracy: 0.9425\n",
            "Epoch 37/50 - Loss: 50.2794, Accuracy: 0.9790\n",
            "Epoch 38/50 - Loss: 37.5189, Accuracy: 0.9776\n",
            "Epoch 39/50 - Loss: 21.3534, Accuracy: 0.9916\n",
            "Epoch 40/50 - Loss: 39.7652, Accuracy: 0.9790\n",
            "Epoch 41/50 - Loss: 47.1347, Accuracy: 0.9762\n",
            "Epoch 42/50 - Loss: 44.1984, Accuracy: 0.9776\n",
            "Epoch 43/50 - Loss: 31.6351, Accuracy: 0.9874\n",
            "Epoch 44/50 - Loss: 20.7937, Accuracy: 0.9916\n",
            "Epoch 45/50 - Loss: 57.3261, Accuracy: 0.9748\n",
            "Epoch 46/50 - Loss: 35.3577, Accuracy: 0.9818\n",
            "Epoch 47/50 - Loss: 31.1168, Accuracy: 0.9860\n",
            "Epoch 48/50 - Loss: 42.0029, Accuracy: 0.9804\n",
            "Epoch 49/50 - Loss: 26.4656, Accuracy: 0.9860\n",
            "Epoch 50/50 - Loss: 12.5844, Accuracy: 0.9944\n"
          ]
        }
      ]
    },
    {
      "cell_type": "code",
      "source": [
        "import torch.nn.functional as F\n",
        "\n",
        "id2label = {0: \"negative\", 1: \"positive\", 2: \"no impact\", 3: \"mixed\"}  # Edit if needed\n",
        "\n",
        "def test(rnn, xtest):\n",
        "    rnn.eval()  # Disable dropout, etc.\n",
        "\n",
        "    for emb in xtest:\n",
        "        with torch.no_grad():\n",
        "            logits = rnn(emb[0])          # (1, 4)\n",
        "            probs = F.softmax(logits, dim=1)   # Convert logits to probabilities\n",
        "            pred_class = torch.argmax(probs, dim=1).item()\n",
        "\n",
        "            print(f\"Text: \\\"{emb[1]}\\\"\")\n",
        "            print(f\"→ Prediction: {id2label[pred_class]} (Confidence: {probs[0, pred_class]:.4f})\")\n",
        "            print(\"-\" * 60)\n"
      ],
      "metadata": {
        "id": "b_8372sHlP7c"
      },
      "execution_count": 105,
      "outputs": []
    },
    {
      "cell_type": "code",
      "source": [
        "test(rnn, xtest[5:10])"
      ],
      "metadata": {
        "colab": {
          "base_uri": "https://localhost:8080/"
        },
        "id": "i44Mr329rr3s",
        "outputId": "3c640490-b761-4458-ada8-70a8d82e7d11"
      },
      "execution_count": 112,
      "outputs": [
        {
          "output_type": "stream",
          "name": "stdout",
          "text": [
            "Text: \"you turn, o jeanne, on our mystery\"\n",
            "→ Prediction: no impact (Confidence: 0.9476)\n",
            "------------------------------------------------------------\n",
            "Text: \"and glance securely round.\"\n",
            "→ Prediction: positive (Confidence: 0.6803)\n",
            "------------------------------------------------------------\n",
            "Text: \"then along the river strand,\"\n",
            "→ Prediction: no impact (Confidence: 1.0000)\n",
            "------------------------------------------------------------\n",
            "Text: \"flood his black hearthstone till its flames expire,\"\n",
            "→ Prediction: negative (Confidence: 0.9843)\n",
            "------------------------------------------------------------\n",
            "Text: \"a million torches lighted by thy hand\"\n",
            "→ Prediction: positive (Confidence: 0.6276)\n",
            "------------------------------------------------------------\n"
          ]
        }
      ]
    },
    {
      "cell_type": "code",
      "source": [],
      "metadata": {
        "id": "CQH2AiqNrt9W"
      },
      "execution_count": null,
      "outputs": []
    }
  ]
}